{
 "cells": [
  {
   "cell_type": "code",
   "outputs": [],
   "source": [
    "import numpy as np\n",
    "from datapipe.test.test_gaussian_transform import *"
   ],
   "metadata": {
    "collapsed": false,
    "ExecuteTime": {
     "end_time": "2024-01-24T11:06:32.364566Z",
     "start_time": "2024-01-24T11:06:32.356923Z"
    }
   },
   "id": "ebcb257d2378d68e",
   "execution_count": 5
  },
  {
   "cell_type": "code",
   "outputs": [
    {
     "ename": "AttributeError",
     "evalue": "'Rotation' object has no attribute 'as_matrix'",
     "output_type": "error",
     "traceback": [
      "\u001B[0;31m---------------------------------------------------------------------------\u001B[0m",
      "\u001B[0;31mAttributeError\u001B[0m                            Traceback (most recent call last)",
      "\u001B[0;32m<ipython-input-6-a34268524fa3>\u001B[0m in \u001B[0;36m<module>\u001B[0;34m\u001B[0m\n\u001B[1;32m     12\u001B[0m }\n\u001B[1;32m     13\u001B[0m \u001B[0;31m#test_apply_gaussian_transform2d(gaussian_parameters=None)\u001B[0m\u001B[0;34m\u001B[0m\u001B[0;34m\u001B[0m\u001B[0;34m\u001B[0m\u001B[0m\n\u001B[0;32m---> 14\u001B[0;31m test_apply_gaussian_transform3d(gaussian_parameters=gaussian_parameters,\n\u001B[0m\u001B[1;32m     15\u001B[0m                                 dummy=False)\n",
      "\u001B[0;32m~/pycharm_remote/remote_test/datapipe/test/test_gaussian_transform.py\u001B[0m in \u001B[0;36mtest_apply_gaussian_transform3d\u001B[0;34m(gaussian_parameters, dummy)\u001B[0m\n\u001B[1;32m    150\u001B[0m     \u001B[0mimage_original\u001B[0m \u001B[0;34m=\u001B[0m \u001B[0mimage_original\u001B[0m\u001B[0;34m.\u001B[0m\u001B[0mtranspose\u001B[0m\u001B[0;34m(\u001B[0m\u001B[0;36m1\u001B[0m\u001B[0;34m,\u001B[0m \u001B[0;36m2\u001B[0m\u001B[0;34m,\u001B[0m \u001B[0;36m0\u001B[0m\u001B[0;34m)\u001B[0m\u001B[0;34m\u001B[0m\u001B[0;34m\u001B[0m\u001B[0m\n\u001B[1;32m    151\u001B[0m \u001B[0;34m\u001B[0m\u001B[0m\n\u001B[0;32m--> 152\u001B[0;31m     \u001B[0mimage_warped\u001B[0m\u001B[0;34m,\u001B[0m \u001B[0mvector_field\u001B[0m \u001B[0;34m=\u001B[0m \u001B[0mapply_gaussian_transform3d\u001B[0m\u001B[0;34m(\u001B[0m\u001B[0mimage_original\u001B[0m\u001B[0;34m,\u001B[0m \u001B[0;34m**\u001B[0m\u001B[0mgaussian_parameters\u001B[0m\u001B[0;34m)\u001B[0m\u001B[0;34m\u001B[0m\u001B[0;34m\u001B[0m\u001B[0m\n\u001B[0m\u001B[1;32m    153\u001B[0m \u001B[0;34m\u001B[0m\u001B[0m\n\u001B[1;32m    154\u001B[0m     \u001B[0;31m#visualize_vector_field_3d(vector_field)\u001B[0m\u001B[0;34m\u001B[0m\u001B[0;34m\u001B[0m\u001B[0;34m\u001B[0m\u001B[0m\n",
      "\u001B[0;32m~/pycharm_remote/remote_test/datapipe/data_transform.py\u001B[0m in \u001B[0;36mapply_gaussian_transform3d\u001B[0;34m(image, alpha_dirs, mu_dirs, sigma_dirs, rotation_dirs, **kwargs)\u001B[0m\n\u001B[1;32m     64\u001B[0m         \u001B[0mmu_normalized\u001B[0m \u001B[0;34m=\u001B[0m \u001B[0mmu\u001B[0m \u001B[0;34m+\u001B[0m \u001B[0mimage_center\u001B[0m\u001B[0;34m\u001B[0m\u001B[0;34m\u001B[0m\u001B[0m\n\u001B[1;32m     65\u001B[0m \u001B[0;34m\u001B[0m\u001B[0m\n\u001B[0;32m---> 66\u001B[0;31m         \u001B[0mcoordinates_rotated\u001B[0m \u001B[0;34m=\u001B[0m \u001B[0mrotate_coordinates_3d\u001B[0m\u001B[0;34m(\u001B[0m\u001B[0mcoordinates\u001B[0m\u001B[0;34m,\u001B[0m \u001B[0mrotation\u001B[0m\u001B[0;34m,\u001B[0m \u001B[0mmu_normalized\u001B[0m\u001B[0;34m)\u001B[0m\u001B[0;34m\u001B[0m\u001B[0;34m\u001B[0m\u001B[0m\n\u001B[0m\u001B[1;32m     67\u001B[0m \u001B[0;34m\u001B[0m\u001B[0m\n\u001B[1;32m     68\u001B[0m         vector_field += [gaussian_derivative_3d(coordinates=coordinates_rotated,\n",
      "\u001B[0;32m~/pycharm_remote/remote_test/datapipe/data_transform.py\u001B[0m in \u001B[0;36mrotate_coordinates_3d\u001B[0;34m(coordinates, rotation_angles, mu)\u001B[0m\n\u001B[1;32m     92\u001B[0m     \u001B[0;31m# Create a rotation object\u001B[0m\u001B[0;34m\u001B[0m\u001B[0;34m\u001B[0m\u001B[0;34m\u001B[0m\u001B[0m\n\u001B[1;32m     93\u001B[0m     \u001B[0mrotation\u001B[0m \u001B[0;34m=\u001B[0m \u001B[0mR\u001B[0m\u001B[0;34m.\u001B[0m\u001B[0mfrom_euler\u001B[0m\u001B[0;34m(\u001B[0m\u001B[0;34m'zxy'\u001B[0m\u001B[0;34m,\u001B[0m \u001B[0mrotation_angles_rad\u001B[0m\u001B[0;34m)\u001B[0m\u001B[0;34m\u001B[0m\u001B[0;34m\u001B[0m\u001B[0m\n\u001B[0;32m---> 94\u001B[0;31m     \u001B[0mrotation_matrix\u001B[0m \u001B[0;34m=\u001B[0m \u001B[0mrotation\u001B[0m\u001B[0;34m.\u001B[0m\u001B[0mas_matrix\u001B[0m\u001B[0;34m(\u001B[0m\u001B[0;34m)\u001B[0m\u001B[0;34m\u001B[0m\u001B[0;34m\u001B[0m\u001B[0m\n\u001B[0m\u001B[1;32m     95\u001B[0m \u001B[0;34m\u001B[0m\u001B[0m\n\u001B[1;32m     96\u001B[0m     \u001B[0mcoordinates_shifted\u001B[0m \u001B[0;34m=\u001B[0m \u001B[0mcoordinates\u001B[0m \u001B[0;34m-\u001B[0m \u001B[0mmu\u001B[0m\u001B[0;34m[\u001B[0m\u001B[0;34m:\u001B[0m\u001B[0;34m,\u001B[0m \u001B[0;32mNone\u001B[0m\u001B[0;34m,\u001B[0m \u001B[0;32mNone\u001B[0m\u001B[0;34m,\u001B[0m \u001B[0;32mNone\u001B[0m\u001B[0;34m]\u001B[0m\u001B[0;34m\u001B[0m\u001B[0;34m\u001B[0m\u001B[0m\n",
      "\u001B[0;31mAttributeError\u001B[0m: 'Rotation' object has no attribute 'as_matrix'"
     ]
    }
   ],
   "source": [
    "gaussian_parameters = {\n",
    "    \"alpha_dirs\": [-40, -40, 0],\n",
    "    \"mu_dirs\": np.array([[100, 3, 0],\n",
    "                         [100, 3, 0],\n",
    "                         [0, 0, 0]]),\n",
    "    \"sigma_dirs\": [np.array([50, 50, 100]),\n",
    "                    np.array([50, 50, 100]),\n",
    "                    np.array([50, 50, 100])],\n",
    "    \"rotation_dirs\": [[0, 0, 0],\n",
    "                        [0, 0, 0],\n",
    "                        [0, 0, 0]],\n",
    "}\n",
    "#test_apply_gaussian_transform2d(gaussian_parameters=None)\n",
    "test_apply_gaussian_transform3d(gaussian_parameters=gaussian_parameters,\n",
    "                                dummy=False)"
   ],
   "metadata": {
    "collapsed": false,
    "ExecuteTime": {
     "end_time": "2024-01-24T11:06:34.331726Z",
     "start_time": "2024-01-24T11:06:33.033981Z"
    }
   },
   "id": "7efa9fd5f2da52f0",
   "execution_count": 6
  },
  {
   "cell_type": "code",
   "outputs": [],
   "source": [],
   "metadata": {
    "collapsed": false
   },
   "id": "5c79fd8e923f4db0"
  }
 ],
 "metadata": {
  "kernelspec": {
   "display_name": "Python 3",
   "language": "python",
   "name": "python3"
  },
  "language_info": {
   "codemirror_mode": {
    "name": "ipython",
    "version": 2
   },
   "file_extension": ".py",
   "mimetype": "text/x-python",
   "name": "python",
   "nbconvert_exporter": "python",
   "pygments_lexer": "ipython2",
   "version": "2.7.6"
  }
 },
 "nbformat": 4,
 "nbformat_minor": 5
}
