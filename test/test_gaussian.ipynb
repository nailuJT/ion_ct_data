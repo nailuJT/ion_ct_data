{
 "cells": [
  {
   "cell_type": "code",
   "execution_count": null,
   "metadata": {
    "collapsed": true
   },
   "outputs": [],
   "source": []
  },
  {
   "cell_type": "code",
   "execution_count": 1,
   "outputs": [],
   "source": [
    "import numpy as np\n",
    "import os\n",
    "from scipy.ndimage import map_coordinates\n",
    "import warnings\n",
    "def gaussian(x, mu, sigma, alpha,epsilon=1e-8):\n",
    "    dist = x - np.ones_like(x) * mu\n",
    "    dist = np.divide(dist, 2 * sigma ** 2 + epsilon)\n",
    "    y = alpha * np.exp(-dist)\n",
    "    return y\n",
    "\n",
    "def test_gaussian():\n",
    "    import matplotlib.pyplot as plt\n",
    "\n",
    "    x = np.stack(np.meshgrid(np.arange(0, 100, 1), np.arange(0, 100, 1)), axis=0)\n",
    "    y = gaussian(x, 50, 10, 1)\n",
    "\n",
    "    plt.plot(x, y)\n",
    "    plt.show()"
   ],
   "metadata": {
    "collapsed": false,
    "ExecuteTime": {
     "end_time": "2023-12-07T17:33:09.009581Z",
     "start_time": "2023-12-07T17:33:08.857040Z"
    }
   }
  },
  {
   "cell_type": "code",
   "execution_count": 4,
   "outputs": [],
   "source": [
    "x = np.stack(np.meshgrid(np.arange(0, 100, 1), np.arange(0, 100, 1)), axis=0)"
   ],
   "metadata": {
    "collapsed": false,
    "ExecuteTime": {
     "end_time": "2023-12-07T17:33:33.729870Z",
     "start_time": "2023-12-07T17:33:33.726703Z"
    }
   }
  },
  {
   "cell_type": "code",
   "execution_count": null,
   "outputs": [],
   "source": [],
   "metadata": {
    "collapsed": false
   }
  },
  {
   "cell_type": "code",
   "execution_count": 16,
   "outputs": [],
   "source": [
    "mu = np.array([10,50])\n",
    "sigma = np.array([20,10])\n",
    "ones = np.ones_like(x)\n",
    "dist = np.power(x - mu[:, None, None], 2)\n",
    "dist = np.divide(dist, 2 * sigma[:, None, None] ** 2 + 1e-8)"
   ],
   "metadata": {
    "collapsed": false,
    "ExecuteTime": {
     "end_time": "2023-12-07T17:41:28.794746Z",
     "start_time": "2023-12-07T17:41:28.791326Z"
    }
   }
  },
  {
   "cell_type": "code",
   "execution_count": 17,
   "outputs": [
    {
     "data": {
      "text/plain": "array([[[ 0.125  ,  0.10125,  0.08   , ...,  9.46125,  9.68   ,\n          9.90125],\n        [ 0.125  ,  0.10125,  0.08   , ...,  9.46125,  9.68   ,\n          9.90125],\n        [ 0.125  ,  0.10125,  0.08   , ...,  9.46125,  9.68   ,\n          9.90125],\n        ...,\n        [ 0.125  ,  0.10125,  0.08   , ...,  9.46125,  9.68   ,\n          9.90125],\n        [ 0.125  ,  0.10125,  0.08   , ...,  9.46125,  9.68   ,\n          9.90125],\n        [ 0.125  ,  0.10125,  0.08   , ...,  9.46125,  9.68   ,\n          9.90125]],\n\n       [[12.5    , 12.5    , 12.5    , ..., 12.5    , 12.5    ,\n         12.5    ],\n        [12.005  , 12.005  , 12.005  , ..., 12.005  , 12.005  ,\n         12.005  ],\n        [11.52   , 11.52   , 11.52   , ..., 11.52   , 11.52   ,\n         11.52   ],\n        ...,\n        [11.045  , 11.045  , 11.045  , ..., 11.045  , 11.045  ,\n         11.045  ],\n        [11.52   , 11.52   , 11.52   , ..., 11.52   , 11.52   ,\n         11.52   ],\n        [12.005  , 12.005  , 12.005  , ..., 12.005  , 12.005  ,\n         12.005  ]]])"
     },
     "execution_count": 17,
     "metadata": {},
     "output_type": "execute_result"
    }
   ],
   "source": [
    "dist"
   ],
   "metadata": {
    "collapsed": false,
    "ExecuteTime": {
     "end_time": "2023-12-07T17:41:32.311371Z",
     "start_time": "2023-12-07T17:41:32.308138Z"
    }
   }
  },
  {
   "cell_type": "code",
   "execution_count": null,
   "outputs": [],
   "source": [],
   "metadata": {
    "collapsed": false
   }
  }
 ],
 "metadata": {
  "kernelspec": {
   "display_name": "Python 3",
   "language": "python",
   "name": "python3"
  },
  "language_info": {
   "codemirror_mode": {
    "name": "ipython",
    "version": 2
   },
   "file_extension": ".py",
   "mimetype": "text/x-python",
   "name": "python",
   "nbconvert_exporter": "python",
   "pygments_lexer": "ipython2",
   "version": "2.7.6"
  }
 },
 "nbformat": 4,
 "nbformat_minor": 0
}
